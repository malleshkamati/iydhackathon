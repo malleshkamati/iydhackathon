{
 "cells": [
  {
   "cell_type": "code",
   "execution_count": 3,
   "id": "d8b76218",
   "metadata": {},
   "outputs": [
    {
     "data": {
      "application/vnd.jupyter.widget-view+json": {
       "model_id": "a9e4634efbcf4835b1c21f6b6ef67265",
       "version_major": 2,
       "version_minor": 0
      },
      "text/plain": [
       "modules.json:   0%|          | 0.00/229 [00:00<?, ?B/s]"
      ]
     },
     "metadata": {},
     "output_type": "display_data"
    },
    {
     "data": {
      "application/vnd.jupyter.widget-view+json": {
       "model_id": "4e66109e1cb54836b7c30c101954f683",
       "version_major": 2,
       "version_minor": 0
      },
      "text/plain": [
       "config_sentence_transformers.json:   0%|          | 0.00/122 [00:00<?, ?B/s]"
      ]
     },
     "metadata": {},
     "output_type": "display_data"
    },
    {
     "data": {
      "application/vnd.jupyter.widget-view+json": {
       "model_id": "73c4f496a5614baf9511a6dd7ba83672",
       "version_major": 2,
       "version_minor": 0
      },
      "text/plain": [
       "README.md:   0%|          | 0.00/3.50k [00:00<?, ?B/s]"
      ]
     },
     "metadata": {},
     "output_type": "display_data"
    },
    {
     "data": {
      "application/vnd.jupyter.widget-view+json": {
       "model_id": "0e26d1b7a47844be88d1d367b1fdc48f",
       "version_major": 2,
       "version_minor": 0
      },
      "text/plain": [
       "sentence_bert_config.json:   0%|          | 0.00/52.0 [00:00<?, ?B/s]"
      ]
     },
     "metadata": {},
     "output_type": "display_data"
    },
    {
     "data": {
      "application/vnd.jupyter.widget-view+json": {
       "model_id": "8e091792b1384d5b986f8440dfc8e551",
       "version_major": 2,
       "version_minor": 0
      },
      "text/plain": [
       "config.json:   0%|          | 0.00/674 [00:00<?, ?B/s]"
      ]
     },
     "metadata": {},
     "output_type": "display_data"
    },
    {
     "name": "stderr",
     "output_type": "stream",
     "text": [
      "Xet Storage is enabled for this repo, but the 'hf_xet' package is not installed. Falling back to regular HTTP download. For better performance, install the package with: `pip install huggingface_hub[hf_xet]` or `pip install hf_xet`\n"
     ]
    },
    {
     "data": {
      "application/vnd.jupyter.widget-view+json": {
       "model_id": "fa28360cd635426c8f08dfeefb70a5fb",
       "version_major": 2,
       "version_minor": 0
      },
      "text/plain": [
       "model.safetensors:   0%|          | 0.00/499M [00:00<?, ?B/s]"
      ]
     },
     "metadata": {},
     "output_type": "display_data"
    },
    {
     "data": {
      "application/vnd.jupyter.widget-view+json": {
       "model_id": "f60656e7c0da4c95bedd12c6d4cbcddb",
       "version_major": 2,
       "version_minor": 0
      },
      "text/plain": [
       "tokenizer_config.json:   0%|          | 0.00/1.11k [00:00<?, ?B/s]"
      ]
     },
     "metadata": {},
     "output_type": "display_data"
    },
    {
     "data": {
      "application/vnd.jupyter.widget-view+json": {
       "model_id": "7f0f353e572648d498f1868f7d04e519",
       "version_major": 2,
       "version_minor": 0
      },
      "text/plain": [
       "vocab.json:   0%|          | 0.00/798k [00:00<?, ?B/s]"
      ]
     },
     "metadata": {},
     "output_type": "display_data"
    },
    {
     "data": {
      "application/vnd.jupyter.widget-view+json": {
       "model_id": "114c479e4cc24e0b8aab8a1c621ae314",
       "version_major": 2,
       "version_minor": 0
      },
      "text/plain": [
       "merges.txt:   0%|          | 0.00/456k [00:00<?, ?B/s]"
      ]
     },
     "metadata": {},
     "output_type": "display_data"
    },
    {
     "data": {
      "application/vnd.jupyter.widget-view+json": {
       "model_id": "3b1d38feccab4312869bc7e0d946b9d1",
       "version_major": 2,
       "version_minor": 0
      },
      "text/plain": [
       "tokenizer.json:   0%|          | 0.00/1.36M [00:00<?, ?B/s]"
      ]
     },
     "metadata": {},
     "output_type": "display_data"
    },
    {
     "data": {
      "application/vnd.jupyter.widget-view+json": {
       "model_id": "b8aae519fe594c1a8363d1453c3a86ba",
       "version_major": 2,
       "version_minor": 0
      },
      "text/plain": [
       "special_tokens_map.json:   0%|          | 0.00/239 [00:00<?, ?B/s]"
      ]
     },
     "metadata": {},
     "output_type": "display_data"
    },
    {
     "data": {
      "application/vnd.jupyter.widget-view+json": {
       "model_id": "b4235b36b1aa4051b18ed8f1585f9324",
       "version_major": 2,
       "version_minor": 0
      },
      "text/plain": [
       "config.json:   0%|          | 0.00/190 [00:00<?, ?B/s]"
      ]
     },
     "metadata": {},
     "output_type": "display_data"
    },
    {
     "name": "stderr",
     "output_type": "stream",
     "text": [
      "C:\\Users\\lenovo\\AppData\\Roaming\\Python\\Python312\\site-packages\\transformers\\models\\roberta\\modeling_roberta.py:370: UserWarning: 1Torch was not compiled with flash attention. (Triggered internally at ..\\aten\\src\\ATen\\native\\transformers\\cuda\\sdp_utils.cpp:263.)\n",
      "  attn_output = torch.nn.functional.scaled_dot_product_attention(\n"
     ]
    },
    {
     "name": "stdout",
     "output_type": "stream",
     "text": [
      "49 3\n"
     ]
    }
   ],
   "source": [
    "true_statements = [\n",
    "    \"Rama is the eldest son of King Dasharatha of Ayodhya.\",\n",
    "    \"Sita is the daughter of King Janaka of Mithila.\",\n",
    "    \"Lakshmana is the younger brother of Rama and accompanies him into exile.\",\n",
    "    \"Ravana is the king of Lanka and abducts Sita.\",\n",
    "    \"Hanuman is a devoted follower of Rama and plays a key role in finding Sita.\",\n",
    "    \"Bharata rules Ayodhya in Rama's absence but places Rama's sandals on the throne.\",\n",
    "    \"Kaikeyi demanded Rama’s exile and Bharata's coronation.\",\n",
    "    \"Jatayu, the vulture, tries to stop Ravana and is mortally wounded.\",\n",
    "    \"Shurpanakha, Ravana’s sister, is disfigured by Lakshmana.\",\n",
    "    \"Rama builds a bridge to Lanka with the help of the Vanara army.\",\n",
    "    \"Vibhishana, Ravana’s brother, defects to Rama’s side.\",\n",
    "    \"Rama kills Ravana in a final battle in Lanka.\",\n",
    "    \"Sita proves her chastity by undergoing a trial by fire.\",\n",
    "    \"Dasharatha dies grieving Rama’s exile.\",\n",
    "    \"Rama spends 14 years in exile in the forest.\",\n",
    "    \"Sage Vishwamitra takes Rama and Lakshmana to protect his yajna from demons.\",\n",
    "    \"Rama breaks Shiva’s bow to win Sita’s hand in marriage.\",\n",
    "    \"Hanuman leaps across the ocean to reach Lanka.\",\n",
    "    \"Lakshmana is wounded in battle and saved by Sanjeevani herb.\",\n",
    "    \"Hanuman carries an entire mountain to deliver Sanjeevani to Lakshmana.\",\n",
    "    \"Sage Valmiki composed the Ramayana in Sanskrit.\",\n",
    "    \"The demoness Tataka is slain by Rama in the forest.\",\n",
    "    \"Rama performs the Ashwamedha Yagna after returning to Ayodhya.\",\n",
    "    \"Rama meets Sabari, an old devotee, who offers him berries.\",\n",
    "    \"The monkey king Sugriva helps Rama in his quest to find Sita.\",\n",
    "    \"Rama sends Angada as an emissary to Ravana's court.\",\n",
    "    \"Mandodari is the noble wife of Ravana.\",\n",
    "    \"Hanuman sets Lanka on fire with his burning tail.\",\n",
    "    \"The golden deer that lures Rama away is actually the demon Maricha.\",\n",
    "    \"Rama and Lakshmana meet the sage Agastya during their exile.\",\n",
    "    \"Sita is guarded by rakshasis while imprisoned in Ashok Vatika.\",\n",
    "    \"Vali, the brother of Sugriva, is killed by Rama.\",\n",
    "    \"The bridge to Lanka is known as Rama Setu.\",\n",
    "    \"Rama is considered an avatar of Vishnu.\",\n",
    "    \"Sita is found in a furrow while King Janaka was ploughing the field.\",\n",
    "    \"Rama rules Ayodhya for many years after returning from exile.\",\n",
    "    \"Lakshmana takes a vow never to sleep during Rama’s exile.\",\n",
    "    \"Hanuman gives Rama’s ring to Sita as proof of his identity.\",\n",
    "    \"Rama banishes Sita after citizens question her purity.\",\n",
    "    \"Rama's sons, Lava and Kusha, are born in Valmiki’s ashram.\",\n",
    "    \"Lava and Kusha recite the Ramayana in Rama's court.\",\n",
    "    \"Rama returns to his divine form and enters the Sarayu river.\",\n",
    "    \"Sage Bharadwaja helps Rama during his exile.\",\n",
    "    \"Sita is abducted by Ravana using a flying chariot called Pushpaka Vimana.\",\n",
    "    \"Kumbhakarna, Ravana's brother, fights valiantly and is slain by Rama.\",\n",
    "    \"Indrajit, Ravana's son, is a powerful warrior defeated by Lakshmana.\",\n",
    "    \"Hanuman assumes a tiny form to enter Lanka unnoticed.\",\n",
    "    \"Rama is welcomed by the citizens of Ayodhya after 14 years.\",\n",
    "    \"Ahalya is freed from a curse by Rama’s touch.\",\n",
    "    \"Sita enters the earth at the end of her life, returning to her divine origin.\",\n",
    "    \"The Ramayana is divided into seven kandas (books).\"\n",
    "]\n",
    "false_statements = [\n",
    "    \"Rama becomes the king of Lanka after defeating Ravana.\",\n",
    "    \"Sita is the sister of Lakshmana.\",\n",
    "    \"Ravana is a benevolent king who helps Rama defeat Kumbhakarna.\",\n",
    "    \"Hanuman is the son of Dasharatha.\",\n",
    "    \"Lakshmana marries Shurpanakha after the war.\",\n",
    "    \"Kaikeyi is the mother of Sita.\",\n",
    "    \"Rama and Sita have a daughter named Rukmini.\",\n",
    "    \"Vali defeats Rama in a duel and rules Ayodhya.\",\n",
    "    \"Rama kills Dasharatha in anger over his exile.\",\n",
    "    \"Ravana kidnaps Lakshmana to lure Rama to Lanka.\",\n",
    "    \"Rama refuses to return to Ayodhya after 14 years.\",\n",
    "    \"Hanuman is killed during the war in Lanka.\",\n",
    "    \"Bharata builds the bridge to Lanka with the help of gods.\",\n",
    "    \"Vibhishana is punished for betraying Ravana and is exiled.\",\n",
    "    \"Sita marries Ravana in disguise to escape exile.\",\n",
    "    \"The Vanara army abandons Rama before the war begins.\",\n",
    "    \"Rama uses a magical flute to charm demons into submission.\",\n",
    "    \"The golden deer is a divine being sent by Vishnu.\",\n",
    "    \"Sage Valmiki joins the war on Rama’s side.\",\n",
    "    \"Kumbhakarna awakens and surrenders peacefully to Rama.\",\n",
    "    \"Rama and Ravana resolve their conflict through dialogue and diplomacy.\",\n",
    "    \"Rama never leaves Ayodhya and rules from the palace throughout.\",\n",
    "    \"Sita chooses to stay in Lanka with Mandodari after the war.\",\n",
    "    \"Hanuman is cursed by Rama and loses his strength forever.\",\n",
    "    \"Shurpanakha becomes queen of Ayodhya after the war.\",\n",
    "    \"Rama builds a tower instead of a bridge to cross to Lanka.\",\n",
    "    \"Lakshmana becomes the king of Lanka after the war.\",\n",
    "    \"Rama rides a dragon to defeat Ravana.\",\n",
    "    \"Bharata leads the rakshasa army against Rama.\",\n",
    "    \"Ravana turns into stone after being defeated by Rama.\",\n",
    "    \"Sita escapes Lanka using her magical wings.\",\n",
    "    \"Dasharatha is killed by Sita’s curse.\",\n",
    "    \"Rama fights Krishna to prove his valor.\",\n",
    "    \"The Ramayana takes place in the kingdom of Hastinapura.\",\n",
    "    \"Vali is the father of Sita.\",\n",
    "    \"Ravana is worshipped as a god by Rama.\",\n",
    "    \"Hanuman betrays Rama to join Ravana.\",\n",
    "    \"Rama marries Mandodari after Ravana’s death.\",\n",
    "    \"Sage Vishwamitra is Ravana’s brother.\",\n",
    "    \"The Ramayana ends with Sita becoming the queen of Lanka.\",\n",
    "    \"Rama uses a bow made of ice to defeat Ravana.\",\n",
    "    \"Lakshmana is crowned king of the underworld.\",\n",
    "    \"Kaikeyi rules over Lanka after Ravana’s defeat.\",\n",
    "    \"Rama learns warfare from Indrajit.\",\n",
    "    \"Shabari poisons Rama’s food out of jealousy.\",\n",
    "    \"Ravana defeats Vishnu and takes his place in Vaikuntha.\",\n",
    "    \"Sita was born in Lanka and adopted by Janaka.\",\n",
    "    \"Rama turns into a deer to trick the rakshasas.\",\n",
    "    \"Rama’s exile lasts for 40 years instead of 14.\",\n",
    "    \"Hanuman becomes the king of Ayodhya after Rama’s death.\",\n",
    "    \"Rama never returns to Ayodhya after his exile ends.\"\n",
    "]\n",
    "\n",
    "model_names = [\n",
    "    'all-roberta-large-v1',\n",
    "    'all-MiniLM-L6-v2',\n",
    "    'distilbert-multilingual-nli-stsb-quora-ranking',\n",
    "    'sentence-transformers/LaBSE',\n",
    "    'all-mpnet-base-v2',\n",
    "    'sentence-transformers/gtr-t5-base',\n",
    "    'intfloat/e5-small-v2',\n",
    "    'BAAI/bge-base-en-v1.5',\n",
    "    'hkunlp/instructor-xl',\n",
    "    'nli-roberta-base-v2'\n",
    "]\n",
    "\n",
    "import pandas as pd\n",
    "import glob\n",
    "import re\n",
    "from sentence_transformers import SentenceTransformer, util\n",
    "\n",
    "# Step 1: Load all paragraphs\n",
    "\n",
    "def load_ramayana_corpus(base_folder):\n",
    "    files = glob.glob(f\"{base_folder}/**/*.csv\", recursive=True)  # Recursive search\n",
    "    df_list = [pd.read_csv(f) for f in files]\n",
    "    df = pd.concat(df_list, ignore_index=True)\n",
    "    texts = df[\"text\"].dropna().tolist()\n",
    "    return texts\n",
    "# Step 2: Clean paragraph text\n",
    "def clean_text(text):\n",
    "    text = re.sub(r'\\s+', ' ', text).strip()\n",
    "    return text\n",
    "\n",
    "# Step 3: Load embedding model\n",
    "model = SentenceTransformer(model_names[-1])  # Free, open-source\n",
    "# model = SentenceTransformer('mistralai/Mistral-7B-Instruct-v0.2')  # Free, open-source\n",
    "\n",
    "# Load and embed corpus\n",
    "corpus = [clean_text(t) for t in load_ramayana_corpus(\"scraped_sargas\")]\n",
    "corpus_embeddings = model.encode(corpus, convert_to_tensor=True)\n",
    "\n",
    "# Step 4: Fact checking function\n",
    "def fact_check(statement, threshold=0.60, top_k=5):\n",
    "    query_embedding = model.encode(statement, convert_to_tensor=True)\n",
    "    scores = util.cos_sim(query_embedding, corpus_embeddings)[0]\n",
    "    \n",
    "    best_score = scores.max().item()\n",
    "    best_index = scores.argmax().item()\n",
    "    \n",
    "    # print(f\"\\n🔍 Fact: {statement}\")\n",
    "    # print(f\"🔗 Top match score: {best_score:.4f}\")\n",
    "    # print(f\"📘 Closest match: {corpus[best_index]}\")\n",
    "\n",
    "    return \"True\" if best_score > threshold else \"False\"\n",
    "\n",
    "\n",
    "trur_s=0\n",
    "false_s=0\n",
    "for i in true_statements:\n",
    "    if fact_check(i) == 'True':       \n",
    "       trur_s+=1\n",
    "for j in false_statements:\n",
    "    if  fact_check(j) == 'False':\n",
    "        false_s+=1\n",
    "\n",
    "print(trur_s,false_s)\n",
    "# dct1={0:'22 44 66', 1:'30 27 57',2:'51 0 51' 3:''}"
   ]
  },
  {
   "cell_type": "code",
   "execution_count": null,
   "id": "63635203",
   "metadata": {},
   "outputs": [],
   "source": []
  },
  {
   "cell_type": "code",
   "execution_count": null,
   "id": "89902489",
   "metadata": {},
   "outputs": [],
   "source": [
    "{1:'44 9'}"
   ]
  }
 ],
 "metadata": {
  "kernelspec": {
   "display_name": "Python 3",
   "language": "python",
   "name": "python3"
  },
  "language_info": {
   "codemirror_mode": {
    "name": "ipython",
    "version": 3
   },
   "file_extension": ".py",
   "mimetype": "text/x-python",
   "name": "python",
   "nbconvert_exporter": "python",
   "pygments_lexer": "ipython3",
   "version": "3.12.1"
  }
 },
 "nbformat": 4,
 "nbformat_minor": 5
}
